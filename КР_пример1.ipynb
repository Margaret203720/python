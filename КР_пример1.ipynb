{
  "nbformat": 4,
  "nbformat_minor": 0,
  "metadata": {
    "colab": {
      "provenance": []
    },
    "kernelspec": {
      "name": "python3",
      "display_name": "Python 3"
    },
    "language_info": {
      "name": "python"
    }
  },
  "cells": [
    {
      "cell_type": "code",
      "execution_count": 6,
      "metadata": {
        "colab": {
          "base_uri": "https://localhost:8080/"
        },
        "id": "yZE6E8QnOMUg",
        "outputId": "901e0c27-dc59-4450-c92a-020107c62cad"
      },
      "outputs": [
        {
          "output_type": "stream",
          "name": "stdout",
          "text": [
            "Collecting PyStemmer\n",
            "  Downloading PyStemmer-2.2.0.1.tar.gz (303 kB)\n",
            "\u001b[2K     \u001b[90m━━━━━━━━━━━━━━━━━━━━━━━━━━━━━━━━━━━━━━━━\u001b[0m \u001b[32m303.0/303.0 kB\u001b[0m \u001b[31m6.5 MB/s\u001b[0m eta \u001b[36m0:00:00\u001b[0m\n",
            "\u001b[?25h  Preparing metadata (setup.py) ... \u001b[?25l\u001b[?25hdone\n",
            "Building wheels for collected packages: PyStemmer\n",
            "  Building wheel for PyStemmer (setup.py) ... \u001b[?25l\u001b[?25hdone\n",
            "  Created wheel for PyStemmer: filename=PyStemmer-2.2.0.1-cp310-cp310-linux_x86_64.whl size=579732 sha256=0082cd0deb2708918a4f2ba69ebcf340db753cbf05090bf71235e5302c1086d9\n",
            "  Stored in directory: /root/.cache/pip/wheels/45/7d/2c/a7ebb8319e01acc5306fa1f8558bf24063d6cec2c02de330c9\n",
            "Successfully built PyStemmer\n",
            "Installing collected packages: PyStemmer\n",
            "Successfully installed PyStemmer-2.2.0.1\n"
          ]
        }
      ],
      "source": [
        "! pip install PyStemmer"
      ]
    },
    {
      "cell_type": "code",
      "source": [
        "import sys\n",
        "import numpy as np\n",
        "import pickle\n",
        "import re\n",
        "from Stemmer import Stemmer\n",
        "from sklearn.feature_extraction.text import TfidfVectorizer\n",
        "from sklearn.linear_model import SGDClassifier\n",
        "from sklearn.pipeline import Pipeline\n",
        "from sklearn.metrics import accuracy_score"
      ],
      "metadata": {
        "id": "kcTrBh5RQoFK"
      },
      "execution_count": 7,
      "outputs": []
    },
    {
      "cell_type": "code",
      "source": [
        "# очистка текста с помощью regexp приведение слов в инфинитив и нижний регистр, замена цифр\n",
        "\n",
        "def text_cleaner(text):\n",
        "    text = text.lower() # приведение в lowercase\n",
        "    stemmer = Stemmer('russian')\n",
        "    text = ' '.join( stemmer.stemWords( text.split() ) )\n",
        "    text = re.sub( r'\\b\\d+\\b', ' digit ', text ) # замена цифр\n",
        "    return  text"
      ],
      "metadata": {
        "id": "GBBiUepORBrI"
      },
      "execution_count": 8,
      "outputs": []
    },
    {
      "cell_type": "code",
      "source": [
        "# загрузка данных из файла model.txt\n",
        "\n",
        "def load_data():\n",
        "    data = {'text':[],'tag':[]}\n",
        "    for line in open('model.txt'):\n",
        "        if not('#' in line):\n",
        "            row = line.split(\"@\")\n",
        "            data['text'] += [row[0]]\n",
        "            data['tag'] += [row[1]]\n",
        "    return data"
      ],
      "metadata": {
        "id": "cXFSqRLuRH45"
      },
      "execution_count": 9,
      "outputs": []
    },
    {
      "cell_type": "code",
      "source": [
        "# Обучение\n",
        "\n",
        "def train_test_split(data, validation_split = 0.1):\n",
        "    sz = len(data['text'])\n",
        "    indices = np.arange(sz)\n",
        "    np.random.shuffle(indices)\n",
        "\n",
        "    X = [data['text'][i] for i in indices]\n",
        "    Y = [data['tag'][i] for i in indices]\n",
        "    nb_validation_samples = int( validation_split * sz )\n",
        "\n",
        "    return {\n",
        "        'train': {'x': X[:-nb_validation_samples], 'y': Y[:-nb_validation_samples]},\n",
        "        'test': {'x': X[-nb_validation_samples:], 'y': Y[-nb_validation_samples:]}\n",
        "    }"
      ],
      "metadata": {
        "id": "_1EL0o-RRWwA"
      },
      "execution_count": 10,
      "outputs": []
    },
    {
      "cell_type": "code",
      "source": [
        "def openai():\n",
        "    data = load_data()\n",
        "    D = train_test_split(data)\n",
        "    text_clf = Pipeline([\n",
        "                    ('tfidf', TfidfVectorizer()),\n",
        "                    ('clf', SGDClassifier(loss='hinge')),\n",
        "                    ])\n",
        "    text_clf.fit(D['train']['x'], D['train']['y'])\n",
        "    predicted = text_clf.predict( D['train']['x'] )\n",
        "\n",
        "# Тестирование программы\n",
        "\n",
        "    z = input(\"Введите вопрос без знака вопроса на конце: \")\n",
        "    zz = []\n",
        "    zz.append(z)\n",
        "    predicted = text_clf.predict(zz)\n",
        "    print(predicted[0])"
      ],
      "metadata": {
        "id": "qwVeRfAbRa3o"
      },
      "execution_count": 13,
      "outputs": []
    },
    {
      "cell_type": "code",
      "source": [
        "if __name__ == '__main__':\n",
        "    sys.exit(openai())"
      ],
      "metadata": {
        "colab": {
          "base_uri": "https://localhost:8080/",
          "height": 196
        },
        "id": "JMQuwyjARe5Q",
        "outputId": "67b7ca81-a1ad-492d-a51e-b25e52a217f7"
      },
      "execution_count": 15,
      "outputs": [
        {
          "output_type": "stream",
          "name": "stdout",
          "text": [
            "Введите вопрос без знака вопроса на конце: Почему небо голубое\n",
            " Информация о предмете\n",
            "\n"
          ]
        },
        {
          "output_type": "error",
          "ename": "SystemExit",
          "evalue": "",
          "traceback": [
            "An exception has occurred, use %tb to see the full traceback.\n",
            "\u001b[0;31mSystemExit\u001b[0m\n"
          ]
        },
        {
          "output_type": "stream",
          "name": "stderr",
          "text": [
            "/usr/local/lib/python3.10/dist-packages/IPython/core/interactiveshell.py:3561: UserWarning: To exit: use 'exit', 'quit', or Ctrl-D.\n",
            "  warn(\"To exit: use 'exit', 'quit', or Ctrl-D.\", stacklevel=1)\n"
          ]
        }
      ]
    }
  ]
}